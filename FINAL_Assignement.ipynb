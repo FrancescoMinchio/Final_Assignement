{
  "nbformat": 4,
  "nbformat_minor": 0,
  "metadata": {
    "colab": {
      "name": "FINAL_Assignement.ipynb",
      "provenance": [],
      "collapsed_sections": [],
      "authorship_tag": "ABX9TyNJl24UWrqgwIzSDtBcwW+y",
      "include_colab_link": true
    },
    "kernelspec": {
      "name": "python3",
      "display_name": "Python 3"
    },
    "language_info": {
      "name": "python"
    }
  },
  "cells": [
    {
      "cell_type": "markdown",
      "metadata": {
        "id": "view-in-github",
        "colab_type": "text"
      },
      "source": [
        "<a href=\"https://colab.research.google.com/github/FrancescoMinchio/Final_Assignement/blob/main/FINAL_Assignement.ipynb\" target=\"_parent\"><img src=\"https://colab.research.google.com/assets/colab-badge.svg\" alt=\"Open In Colab\"/></a>"
      ]
    },
    {
      "cell_type": "markdown",
      "metadata": {
        "id": "IYNNqualolba"
      },
      "source": [
        "# FINAL_ASSIGNEMENT\n",
        "\n",
        "*   Student name: Francesco Minchio\n",
        "*   Student contact: francesco.minchio@studenti.unitn.it\n",
        "*   Student referal: 225269\n"
      ]
    },
    {
      "cell_type": "markdown",
      "metadata": {
        "id": "fEIcV9Gwo5UC"
      },
      "source": [
        "## INTRODUCTION\n",
        "\n",
        "*   Library: Pytorch\n",
        "*   Data set: Tensors (containers that may contain data in N dimensions)\n",
        "\n",
        "\n",
        "### **Neural Network**\n",
        "\n",
        "##### Neural networks are a set of algorithms, modeled loosely after the human brain, that are designed to recognize patterns. They interpret sensory data through a kind of machine perception, labeling or clustering raw input. The patterns they recognize are numerical, contained in vectors, into which all real-world data, be it images, sound, text or time series, must be translated.\n",
        "\n",
        "### **FNN (Vanilla Neural Network)**\n",
        "\n",
        "##### Deep feedforward networks, also often called feedforward neural networks, or multilayer perceptrons(MLPs), have the most simple architecture in the Neural Networks realm and they are the quintessential deep learning models. The goal of a feedforward network is to approximate some function f* . For example, for a classiﬁer, y = f*(x) maps an input x to a category y. In this Neural Network the hidden layers gradually increase/decrease in hidden size (number of neurons) so more and more details of the input (images, text etc.) can be grasped.\n",
        "\n",
        "\n",
        "### **The Perceptron**\n",
        "\n",
        "##### A Perceptron is a single layer neural network, while a Multi Layer Perceptron is called a Neural Network.\n",
        "\n",
        "### **Functionality**\n",
        "\n",
        "Our network is trained to receive an B&W image and create the output 1 if the image is a cat and 0 otherwise. Therefore, the FNN Vanilla is a Classifier.\n",
        "\n",
        "\n",
        "\n",
        "*   INPUT: one image (3 channels)\n",
        "*   OUTPUT: 1 neuron which fires the value 1 if the image is a cat or 0 otherwise.\n",
        "*   Layer 1: vector size [200]\n",
        "*   Layer 2: neurons [300]\n",
        "*   Layer 3: neurons [400]\n",
        "\n",
        "\n",
        "\n",
        "\n",
        "\n",
        "\n",
        "\n"
      ]
    },
    {
      "cell_type": "markdown",
      "metadata": {
        "id": "BFUxGLCOvp7K"
      },
      "source": [
        "## CODE"
      ]
    },
    {
      "cell_type": "markdown",
      "metadata": {
        "id": "tp5Cp2MDwETc"
      },
      "source": [
        "##### Library implementation and tensor creation (x, y, z)."
      ]
    },
    {
      "cell_type": "code",
      "metadata": {
        "colab": {
          "base_uri": "https://localhost:8080/"
        },
        "id": "O1RQvrVepivv",
        "outputId": "06463541-60cf-4d67-e25e-f59d9303c426"
      },
      "source": [
        "import torch\n",
        "import torch.nn as nn                                # build the NN              \n",
        "import torch.nn.functional as F                      # activation functions\n",
        "from torchvision import datasets, transforms         # MNIST dataset\n",
        "import torch.optim as optim                          # optimizer\n",
        "\n",
        "import numpy as np\n",
        "import matplotlib.pyplot as plt                      # plotting\n",
        "%matplotlib inline\n",
        "import seaborn as sns\n",
        "import sklearn.metrics\n",
        "\n",
        "\n",
        "x = torch.empty(5, 3)                                # tensor_1\n",
        "print(x, '\\n')\n",
        "y = torch.ones(5, 3, dtype=torch.long)               # tensor_2\n",
        "print(y, '\\n')\n",
        "z = torch.tensor([[0, 1, 2], [3, 4, 5]])             # tensor_3\n",
        "print(z)"
      ],
      "execution_count": 27,
      "outputs": [
        {
          "output_type": "stream",
          "text": [
            "tensor([[-2.4734e+27,  3.0747e-41,  1.3593e-43],\n",
            "        [ 1.5975e-43,  1.5414e-43,  1.4714e-43],\n",
            "        [ 1.5414e-43,  1.4433e-43,  1.3312e-43],\n",
            "        [ 1.5975e-43,  1.3593e-43,  1.6255e-43],\n",
            "        [ 1.4153e-43,  0.0000e+00, -5.0246e+24]]) \n",
            "\n",
            "tensor([[1, 1, 1],\n",
            "        [1, 1, 1],\n",
            "        [1, 1, 1],\n",
            "        [1, 1, 1],\n",
            "        [1, 1, 1]]) \n",
            "\n",
            "tensor([[0, 1, 2],\n",
            "        [3, 4, 5]])\n"
          ],
          "name": "stdout"
        }
      ]
    },
    {
      "cell_type": "markdown",
      "metadata": {
        "id": "pHLKJnNX1ErZ"
      },
      "source": [
        "##### We implement MNIST to load in the data from torchvision datasets and then return train=True to access training images and train=False to access test images. We also transform to Tensors the images"
      ]
    },
    {
      "cell_type": "code",
      "metadata": {
        "colab": {
          "base_uri": "https://localhost:8080/",
          "height": 486
        },
        "id": "rPb8-uqi1o81",
        "outputId": "2f443dc7-6973-4906-cc4f-721e558d2abc"
      },
      "source": [
        "mnist_train = datasets.MNIST('data', train = True, download = True, transform=transforms.ToTensor())\n",
        "mnist_test = datasets.MNIST('data', train = False, download = True, transform=transforms.ToTensor())\n",
        "\n",
        "print('Train data:', mnist_train, '\\n')\n",
        "print('Test data:', mnist_test, '\\n')\n",
        "print('Image on index 0 shape:', list(mnist_train)[0][0].shape)\n",
        "print('Image on index 0 label:', list(mnist_train)[0][1])\n",
        "\n",
        "sample = datasets.MNIST('data', train=True, download=True)\n",
        "\n",
        "# Check images\n",
        "plt.figure(figsize = (16, 3))\n",
        "for k, (image, label) in enumerate(sample):\n",
        "    if k >= 16:\n",
        "        break\n",
        "    plt.subplot(2, 8, k+1)\n",
        "    plt.imshow(image)"
      ],
      "execution_count": 28,
      "outputs": [
        {
          "output_type": "stream",
          "text": [
            "Train data: Dataset MNIST\n",
            "    Number of datapoints: 60000\n",
            "    Root location: data\n",
            "    Split: Train\n",
            "    StandardTransform\n",
            "Transform: ToTensor() \n",
            "\n",
            "Test data: Dataset MNIST\n",
            "    Number of datapoints: 10000\n",
            "    Root location: data\n",
            "    Split: Test\n",
            "    StandardTransform\n",
            "Transform: ToTensor() \n",
            "\n",
            "Image on index 0 shape: torch.Size([1, 28, 28])\n",
            "Image on index 0 label: 5\n"
          ],
          "name": "stdout"
        },
        {
          "output_type": "display_data",
          "data": {
            "image/png": "[encoded data removed]",
            "text/plain": [
              "<Figure size 1152x216 with 16 Axes>"
            ]
          },
          "metadata": {
            "tags": [],
            "needs_background": "light"
          }
        }
      ]
    },
    {
      "cell_type": "markdown",
      "metadata": {
        "id": "ILZChquh2ir6"
      },
      "source": [
        "### **Vanilla FNN**\n",
        "\n",
        "When we work with neural networks you need to define a class, we ignore prints. In addition, the super() function exists because the Mnistclassifier class inherits attributes from its parent class nn.Module (subclass).\n",
        "\n",
        "\n",
        "\n",
        "*   Layer_1 creation: from 784 neurons to 50\n",
        "*   Layer_2 creation: from 50 neurons to 20\n",
        "*   Layer_3 creation: from 20 neurons to 10\n",
        "\n",
        "\n",
        "\n",
        "> \n",
        "\n",
        "\n",
        "\n",
        "\n",
        "\n",
        "*   10 = categories of numbers from which we need to pick 1\n",
        "*   ReLu = Activation Function which says that we are making the output of each neuron nonlinear, because we want to learn non-linear relationships between the input and the output\n",
        "\n",
        "\n",
        "    \n",
        "\n",
        "\n",
        "\n",
        "\n",
        "\n",
        "\n"
      ]
    },
    {
      "cell_type": "code",
      "metadata": {
        "id": "V3eLv5Dw3NAN"
      },
      "source": [
        "class MNISTClassifier(nn.Module):                    \n",
        "    def __init__(self):                                     # structure\n",
        "        super(MNISTClassifier, self).__init__()             \n",
        "        self.layers = nn.Sequential(nn.Linear(28*28, 50),   # Layer_1\n",
        "                                    nn.ReLU(),              \n",
        "                                    nn.Linear(50, 20),      # Layer_2\n",
        "                                    nn.ReLU(),              \n",
        "                                    nn.Linear(20, 10))      # Layer_3\n",
        "                   \n",
        "    def forward(self, image, prints=False):                 # Taking the image though the FNN\n",
        "        if prints: print('Image shape:', image.shape)\n",
        "        image = image.view(-1, 28*28)                       # Flatten image: from [1, 28, 28] to [784]\n",
        "        if prints: print('Image reshaped:', image.shape)\n",
        "        out = self.layers(image)                            # Create Log Probabilities\n",
        "        if prints: print('Out shape:', out.shape)\n",
        "        \n",
        "        return out"
      ],
      "execution_count": 29,
      "outputs": []
    },
    {
      "cell_type": "code",
      "metadata": {
        "colab": {
          "base_uri": "https://localhost:8080/"
        },
        "id": "WvB5P5z25JiE",
        "outputId": "eeb6c486-79a0-44c0-fd63-2638e9309468"
      },
      "source": [
        "# Making a Forward Pass\n",
        "torch.manual_seed(1)                                        # set the random seed\n",
        "np.random.seed(1)                                           #set random seed in numpy\n",
        "\n",
        "# Selecting 1 image with its label\n",
        "image_example, label_example = mnist_train[0]\n",
        "print('Image shape:', image_example.shape)\n",
        "print('Label:', label_example, '\\n')\n",
        "\n",
        "# Creating an instance of the model\n",
        "model_example = MNISTClassifier()\n",
        "print(model_example, '\\n')\n",
        "\n",
        "# Creating the log probabilities\n",
        "out = model_example(image_example, prints=True)\n",
        "print('out:', out, '\\n')\n",
        "\n",
        "# Choose maximum probability and then select only the label\n",
        "prediction = out.max(dim=1)[1]\n",
        "print('prediction:', prediction)"
      ],
      "execution_count": 30,
      "outputs": [
        {
          "output_type": "stream",
          "text": [
            "Image shape: torch.Size([1, 28, 28])\n",
            "Label: 5 \n",
            "\n",
            "MNISTClassifier(\n",
            "  (layers): Sequential(\n",
            "    (0): Linear(in_features=784, out_features=50, bias=True)\n",
            "    (1): ReLU()\n",
            "    (2): Linear(in_features=50, out_features=20, bias=True)\n",
            "    (3): ReLU()\n",
            "    (4): Linear(in_features=20, out_features=10, bias=True)\n",
            "  )\n",
            ") \n",
            "\n",
            "Image shape: torch.Size([1, 28, 28])\n",
            "Image reshaped: torch.Size([1, 784])\n",
            "Out shape: torch.Size([1, 10])\n",
            "out: tensor([[-0.0371,  0.2867, -0.0227,  0.1967,  0.1084,  0.0576, -0.0036, -0.0246,\n",
            "         -0.2160,  0.1166]], grad_fn=<AddmmBackward>) \n",
            "\n",
            "prediction: tensor([1])\n"
          ],
          "name": "stdout"
        }
      ]
    },
    {
      "cell_type": "markdown",
      "metadata": {
        "id": "UeF0iFuu-B2V"
      },
      "source": [
        "### **Applying the Backpropagation**\n",
        "\n",
        "##### Update the weights and biases in the neural network so it learns to recognize the digits and accurately classify them.\n",
        "\n",
        "We create LOSS and OPTIMIZER instances:\n",
        "\n",
        "\n",
        "*   LOSS: how far is the prediction from the true value\n",
        "\n",
        "By using these two we computes the gradients of each neuron and updates the weights and after 1 iteration the weights have updated once.\n",
        "\n",
        "\n",
        "\n"
      ]
    },
    {
      "cell_type": "code",
      "metadata": {
        "colab": {
          "base_uri": "https://localhost:8080/"
        },
        "id": "C0pXvJLl5aqp",
        "outputId": "2dc31935-3dc5-4fd0-93ff-b6446dee7048"
      },
      "source": [
        "criterion = nn.CrossEntropyLoss()\n",
        "print('Criterion:', criterion, '\\n')\n",
        "\n",
        "\n",
        "optimizer = optim.SGD(model_example.parameters(), lr=0.005, momentum=0.9)\n",
        "print('Optimizer:', optimizer)\n",
        "\n",
        "# Parameter Understanding\n",
        "for i in range(6):\n",
        "    print(i+1, ':', list(model_example.parameters())[i].shape)\n",
        "\n",
        "torch.manual_seed(1) \n",
        "np.random.seed(1)\n",
        "\n",
        "print('Log Probabilities:', out)\n",
        "print('Actual value:', torch.tensor(label_example).reshape(-1))\n",
        "\n",
        "# Clear gradients\n",
        "optimizer.zero_grad()\n",
        "# Compute loss\n",
        "loss = criterion(out, torch.tensor(label_example).reshape(-1))\n",
        "print('Loss:', loss)\n",
        "# Compute Gradients\n",
        "loss.backward()\n",
        "# Update weights\n",
        "optimizer.step()\n"
      ],
      "execution_count": 31,
      "outputs": [
        {
          "output_type": "stream",
          "text": [
            "Criterion: CrossEntropyLoss() \n",
            "\n",
            "Optimizer: SGD (\n",
            "Parameter Group 0\n",
            "    dampening: 0\n",
            "    lr: 0.005\n",
            "    momentum: 0.9\n",
            "    nesterov: False\n",
            "    weight_decay: 0\n",
            ")\n",
            "1 : torch.Size([50, 784])\n",
            "2 : torch.Size([50])\n",
            "3 : torch.Size([20, 50])\n",
            "4 : torch.Size([20])\n",
            "5 : torch.Size([10, 20])\n",
            "6 : torch.Size([10])\n",
            "Log Probabilities: tensor([[-0.0371,  0.2867, -0.0227,  0.1967,  0.1084,  0.0576, -0.0036, -0.0246,\n",
            "         -0.2160,  0.1166]], grad_fn=<AddmmBackward>)\n",
            "Actual value: tensor([5])\n",
            "Loss: tensor(2.3000, grad_fn=<NllLossBackward>)\n"
          ],
          "name": "stdout"
        }
      ]
    },
    {
      "cell_type": "markdown",
      "metadata": {
        "id": "rJRBp-_V_qRX"
      },
      "source": [
        "### **Applying the Training**\n",
        "\n",
        "##### We can compute the average loss across a mini-batch of multiple images, and take a step to optimize the average loss. The average loss across multiple training inputs is going to be less \"noisy\" than the loss for a single input, and is less likely to provide \"bad information\" because of a \"bad\" input. The actual  that we choose depends on many things. We want our batch size to be large enough to not be too \"noisy\", but not so large as to make each iteration too expensive to run."
      ]
    },
    {
      "cell_type": "code",
      "metadata": {
        "colab": {
          "base_uri": "https://localhost:8080/"
        },
        "id": "GsWEn5PS5n0g",
        "outputId": "a3706a21-2a27-4d41-cecd-8ede3ba3db6a"
      },
      "source": [
        "\n",
        "train_loader = torch.utils.data.DataLoader(mnist_train, batch_size=60, shuffle=True)\n",
        "test_loader = torch.utils.data.DataLoader(mnist_test, batch_size=10, shuffle=True)\n",
        "\n",
        "# Inspect Trainloader\n",
        "print('trainloader object:', train_loader, '\\n')\n",
        "\n",
        "# Select Batch\n",
        "imgs, labels = next(iter(train_loader))\n",
        "\n",
        "print('Object shape:', imgs.shape)      # [60, 1, 28, 28]: 60 images of size [1, 28, 28]\n",
        "print('Label values:', labels)          # actual labels for the 60 images\n",
        "print('Total Inages:', labels.shape)    # 60 labels in total\n",
        "\n",
        "torch.manual_seed(1) \n",
        "np.random.seed(1) \n",
        "\n",
        "n = 0\n",
        "for k, (images, labels) in enumerate(train_loader):\n",
        "    if k >= 3:\n",
        "        break\n",
        "    \n",
        "    print('========== Batch', k, ':')\n",
        "    # Prediction:\n",
        "    out = model_example(images)\n",
        "    print('out shape:', out.shape)\n",
        "    \n",
        "    # Update parameters\n",
        "    loss = criterion(out, labels)\n",
        "    print('loss:', loss)\n",
        "    \n",
        "    print('Optimizing...')\n",
        "    # Computes the gradient of current tensor\n",
        "    loss.backward()\n",
        "    # Performs a single optimization step\n",
        "    optimizer.step()\n",
        "    # Clears the gradients of all optimized\n",
        "    optimizer.zero_grad()\n",
        "    print('Done.')    \n",
        "    \n",
        "    if k<2: print('\\n')"
      ],
      "execution_count": 32,
      "outputs": [
        {
          "output_type": "stream",
          "text": [
            "trainloader object: <torch.utils.data.dataloader.DataLoader object at 0x7f9fd234f1d0> \n",
            "\n",
            "Object shape: torch.Size([60, 1, 28, 28])\n",
            "Label values: tensor([4, 8, 8, 6, 7, 1, 0, 7, 1, 8, 7, 6, 4, 9, 1, 5, 3, 2, 6, 8, 8, 6, 9, 4,\n",
            "        6, 0, 4, 2, 6, 7, 0, 5, 8, 6, 0, 3, 5, 7, 4, 7, 5, 1, 6, 7, 3, 6, 0, 3,\n",
            "        1, 1, 2, 6, 7, 9, 8, 0, 7, 2, 4, 3])\n",
            "Total Inages: torch.Size([60])\n",
            "========== Batch 0 :\n",
            "out shape: torch.Size([60, 10])\n",
            "loss: tensor(2.3260, grad_fn=<NllLossBackward>)\n",
            "Optimizing...\n",
            "Done.\n",
            "\n",
            "\n",
            "========== Batch 1 :\n",
            "out shape: torch.Size([60, 10])\n",
            "loss: tensor(2.3179, grad_fn=<NllLossBackward>)\n",
            "Optimizing...\n",
            "Done.\n",
            "\n",
            "\n",
            "========== Batch 2 :\n",
            "out shape: torch.Size([60, 10])\n",
            "loss: tensor(2.2919, grad_fn=<NllLossBackward>)\n",
            "Optimizing...\n",
            "Done.\n"
          ],
          "name": "stdout"
        }
      ]
    },
    {
      "cell_type": "markdown",
      "metadata": {
        "id": "RArZHaIRAetr"
      },
      "source": [
        "### **Accuracy**"
      ]
    },
    {
      "cell_type": "code",
      "metadata": {
        "colab": {
          "base_uri": "https://localhost:8080/"
        },
        "id": "c4XLVOA_5wYZ",
        "outputId": "50db3b88-b39e-4672-9190-d03a914265b5"
      },
      "source": [
        "correct_cases = 0\n",
        "total_cases = 0\n",
        "model_example.eval()\n",
        "\n",
        "for k, (images, labels) in enumerate(train_loader):\n",
        "    if k >= 3: break\n",
        "    \n",
        "    print('==========', k, ':')\n",
        "    out = model_example(images)\n",
        "    print('Out:', out.shape)\n",
        "    \n",
        "    # maximum probability \n",
        "    prediction = out.max(dim = 1)[1]\n",
        "    print('Prediction:', prediction.shape)\n",
        "    \n",
        "    # Number of correct cases - we first see how many are correct in the batch\n",
        "            # then we sum, then convert to integer (not tensor)\n",
        "    correct_cases += (prediction == labels).sum().item()\n",
        "    print('Correct:', correct_cases)\n",
        "    \n",
        "    # Total cases\n",
        "    total_cases += images.shape[0]\n",
        "    print('Total:', total_cases)  \n",
        "    \n",
        "    if k < 2: print('\\n')\n",
        "        \n",
        "\n",
        "print('Average Accuracy after 3 iterations:', correct_cases/total_cases)\n",
        "\n",
        "def get_accuracy(model, data, batchSize = 20):\n",
        "    '''Iterates through data and returnes average accuracy per batch.'''\n",
        "    # Sets the model in evaluation mode\n",
        "    model.eval()\n",
        "    \n",
        "    # Creates the dataloader\n",
        "    data_loader = torch.utils.data.DataLoader(data, batch_size=batchSize)\n",
        "    \n",
        "    correct_cases = 0\n",
        "    total_cases = 0\n",
        "    \n",
        "    for (images, labels) in iter(data_loader):\n",
        "        # Is formed by 20 images (by default) with 10 probabilities each\n",
        "        out = model(images)\n",
        "        # Choose maximum probability and then select only the label (not the prob number)\n",
        "        prediction = out.max(dim = 1)[1]\n",
        "        # First check how many are correct in the batch, then we sum then convert to integer (not tensor)\n",
        "        correct_cases += (prediction == labels).sum().item()\n",
        "        # Total cases\n",
        "        total_cases += images.shape[0]\n",
        "    \n",
        "    return correct_cases / total_cases"
      ],
      "execution_count": 33,
      "outputs": [
        {
          "output_type": "stream",
          "text": [
            "========== 0 :\n",
            "Out: torch.Size([60, 10])\n",
            "Prediction: torch.Size([60])\n",
            "Correct: 6\n",
            "Total: 60\n",
            "\n",
            "\n",
            "========== 1 :\n",
            "Out: torch.Size([60, 10])\n",
            "Prediction: torch.Size([60])\n",
            "Correct: 9\n",
            "Total: 120\n",
            "\n",
            "\n",
            "========== 2 :\n",
            "Out: torch.Size([60, 10])\n",
            "Prediction: torch.Size([60])\n",
            "Correct: 16\n",
            "Total: 180\n",
            "Average Accuracy after 3 iterations: 0.08888888888888889\n"
          ],
          "name": "stdout"
        }
      ]
    },
    {
      "cell_type": "markdown",
      "metadata": {
        "id": "E_8mSBZJBg1q"
      },
      "source": [
        "### **Predefined Training Function**"
      ]
    },
    {
      "cell_type": "code",
      "metadata": {
        "id": "qpVpvXtV7-yA"
      },
      "source": [
        "def train_network(model, train_data, test_data, batchSize=20, num_epochs=1, learning_rate=0.01, weight_decay=0,\n",
        "                 show_plot = True, show_acc = True):\n",
        "    \n",
        "    \n",
        "    print('Get data ready...')\n",
        "    # Create dataloader (multiple batches)\n",
        "    train_loader = torch.utils.data.DataLoader(dataset=train_data, batch_size=batchSize, shuffle=True)\n",
        "    \n",
        "    # Create criterion and optimizer\n",
        "    criterion = nn.CrossEntropyLoss()\n",
        "    optimizer = optim.SGD(model.parameters(), lr=learning_rate, momentum=0.9, weight_decay=weight_decay)\n",
        "    \n",
        "    # Losses & Iterations\n",
        "    losses = []\n",
        "    iterations = []\n",
        "    # Train and test accuracies\n",
        "    train_acc = []\n",
        "    test_acc = []\n",
        "    \n",
        "    print('Training started...')\n",
        "    iteration = 0\n",
        "    # Train the data multiple times\n",
        "    for epoch in range(num_epochs):\n",
        "      for images, labels in iter(train_loader):\n",
        "            # Set model in training mode:\n",
        "            model.train()\n",
        "            \n",
        "            # Create log probabilities\n",
        "            out = model(images)\n",
        "            # Clears the gradients from previous iteration\n",
        "            optimizer.zero_grad()\n",
        "            # Computes loss\n",
        "            loss = criterion(out, labels)\n",
        "            # Computes gradients for neurons\n",
        "            loss.backward()\n",
        "            # Updates the weights\n",
        "            optimizer.step()\n",
        "            \n",
        "            # Save information \n",
        "            iterations.append(iteration)\n",
        "            iteration += 1\n",
        "            losses.append(loss)\n",
        "            # Compute accuracy and save\n",
        "            train_acc.append(get_accuracy(model, train_data))\n",
        "            test_acc.append(get_accuracy(model, test_data))\n",
        "    # Show Accuracies\n",
        "    if show_acc:\n",
        "        print(\"Final Training Accuracy: {}\".format(train_acc[-1]))\n",
        "        print(\"Final Testing Accuracy: {}\".format(test_acc[-1]))\n",
        "    \n",
        "    # Create plots\n",
        "    if show_plot:\n",
        "        plt.figure(figsize=(10,4))\n",
        "        plt.subplot(1,2,1)\n",
        "        plt.title(\"Loss Curve\")\n",
        "        plt.plot(iterations[::20], losses[::20], label=\"Train\", linewidth=4, color='#008C76FF')\n",
        "        plt.xlabel(\"Iterations\")\n",
        "        plt.ylabel(\"Loss\")\n",
        "\n",
        "        plt.subplot(1,2,2)\n",
        "        plt.title(\"Accuracy Curve\")\n",
        "        plt.plot(iterations[::20], train_acc[::20], label=\"Train\", linewidth=4, color='#9ED9CCFF')\n",
        "        plt.plot(iterations[::20], test_acc[::20], label=\"Test\", linewidth=4, color='#FAA094FF')\n",
        "        plt.xlabel(\"Iterations\")\n",
        "        plt.ylabel(\"Accuracy\")\n",
        "        plt.legend(loc='best')\n",
        "        plt.show()"
      ],
      "execution_count": 34,
      "outputs": []
    },
    {
      "cell_type": "markdown",
      "metadata": {
        "id": "71JjisEFA77v"
      },
      "source": [
        "### **Model Evaluation**\n",
        "\n",
        "\n",
        "\n",
        "*   500 training images and 500 testing images\n",
        "*   We iterate through the data 200 times (num_epochs=200)\n",
        "*   20 images/batch\n",
        "\n",
        "\n",
        "\n",
        "\n"
      ]
    },
    {
      "cell_type": "code",
      "metadata": {
        "colab": {
          "base_uri": "https://localhost:8080/",
          "height": 363
        },
        "id": "yE6O3nEq6E3Z",
        "outputId": "138c619c-d293-41ff-e6e3-cb20e41c9d8e"
      },
      "source": [
        "mnist_data = datasets.MNIST('data', train = True, download=True, transform=transforms.ToTensor())\n",
        "mnist_data = list(mnist_data)\n",
        "\n",
        "# Training and Testing\n",
        "mnist_train = mnist_data[:500]     # 500 training images\n",
        "mnist_test = mnist_data[500:1000]  # 500 test images\n",
        "\n",
        "# Create Model Instance\n",
        "model1 = MNISTClassifier()\n",
        "\n",
        "# Train\n",
        "train_network(model1, mnist_train, mnist_test, num_epochs=200)"
      ],
      "execution_count": 35,
      "outputs": [
        {
          "output_type": "stream",
          "text": [
            "Get data ready...\n",
            "Training started...\n",
            "Final Training Accuracy: 1.0\n",
            "Final Testing Accuracy: 0.784\n"
          ],
          "name": "stdout"
        },
        {
          "output_type": "display_data",
          "data": {
            "image/png": "[encoded data removed]",
            "text/plain": [
              "<Figure size 720x288 with 2 Axes>"
            ]
          },
          "metadata": {
            "tags": [],
            "needs_background": "light"
          }
        }
      ]
    }
  ]
}